{
 "cells": [
  {
   "cell_type": "markdown",
   "metadata": {},
   "source": [
    "# 1. Implementación y uso del convertidor DEPS"
   ]
  },
  {
   "cell_type": "markdown",
   "metadata": {},
   "source": [
    "## Implementación en NILMTK"
   ]
  },
  {
   "cell_type": "markdown",
   "metadata": {},
   "source": [
    "Para su implementación en Anaconda (entorno nilmtk-env) es necesario habilitar una carpeta dentro del entorno, que contenga el convertidor y los archivos de metadatos.\n",
    "\n",
    "\n",
    "\n",
    "La carpeta del convertidor DEPS debe ser alojada en la carpeta: ***nilmtk\\dataset_converters\\***\n",
    "\n",
    "Luego, se debe indicar que se ha añadido el convertidor modificando el archivo ***__init__.py*** de la carpeta de los convertidores agregando la siguiente línea al archivo: `from .deps.convert_deps import convert_deps `\n",
    "\n",
    "Finalmente reiniciar nilmtk"
   ]
  },
  {
   "cell_type": "markdown",
   "metadata": {},
   "source": [
    "## Uso"
   ]
  },
  {
   "cell_type": "markdown",
   "metadata": {},
   "source": [
    "Importación del convertidor:"
   ]
  },
  {
   "cell_type": "code",
   "execution_count": 1,
   "metadata": {},
   "outputs": [],
   "source": [
    "from nilmtk.dataset_converters import convert_deps"
   ]
  },
  {
   "cell_type": "markdown",
   "metadata": {},
   "source": [
    "La función del convertidor es:"
   ]
  },
  {
   "cell_type": "markdown",
   "metadata": {},
   "source": [
    "`convert_deps('C:/data/', 'C:/data/raw_data.csv', 'C:/data/DEPS.h5')`"
   ]
  },
  {
   "cell_type": "markdown",
   "metadata": {},
   "source": [
    "En la función `convert_deps` se deben especificar los siguientes parámetros:\n",
    "\n",
    "- `C:/data/`: ruta principal del dataset, acá se almacenan los archivos correspondientes al formato REDD por lo que se creará una carpeta llamada classroom_1 que contiene todos los archivos de los canales además del archivo de etiquetas labels.dat.\n",
    "\n",
    "- `C:/data/raw_data.csv`: ruta completa del archivo de datos crudos en formato CSV\n",
    "\n",
    "- `C:/data/DEPS.h5`: ruta completa del archivo de salida en formato HDF5."
   ]
  },
  {
   "cell_type": "markdown",
   "metadata": {},
   "source": [
    "### Conversión del dataset DEPS"
   ]
  },
  {
   "cell_type": "code",
   "execution_count": 2,
   "metadata": {},
   "outputs": [
    {
     "name": "stdout",
     "output_type": "stream",
     "text": [
      "Converting C:/Users/arias/Desktop/data/raw_data.csv to REDD format...\n",
      "Directory  C:/Users/arias/Desktop/data/classroom_1 Already exists\n",
      "           export data from Main_RST to channel_1.dat\n",
      "           export data from Main_R to channel_2.dat\n",
      "           export data from Main_S to channel_3.dat\n",
      "           export data from Main_T to channel_4.dat\n",
      "           export data from Lights_1 to channel_5.dat\n",
      "           export data from Lights_2 to channel_6.dat\n",
      "           export data from HVAC_1 to channel_7.dat\n",
      "           export data from HVAC_2 to channel_8.dat\n",
      "           export data from HVAC_4 to channel_9.dat\n",
      "           export data from Rack to channel_10.dat\n",
      "           export labels.dat\n",
      "Done converting raw data to REDD format!\n",
      " \n",
      "Loading data from 'Aula 2.2 Bis' to classroom N° 1 ... Loading channels 1 2 3 4 5 6 7 8 9 10 \n",
      "Loaded metadata\n",
      "Done converting YAML metadata to HDF5!\n",
      "Done converting DEPS data to HDF5!\n",
      "70.11segundos\n"
     ]
    }
   ],
   "source": [
    "import time\n",
    "start = time.time()\n",
    "#convertidor\n",
    "convert_deps('C:/Users/arias/Desktop/data',\n",
    "             'C:/Users/arias/Desktop/data/raw_data.csv',\n",
    "             'C:/Users/arias/Desktop/data/DEPS.h5', format='HDF')\n",
    "\n",
    "#tiempo\n",
    "print(str(round(time.time()-start,2))+'segundos')"
   ]
  }
 ],
 "metadata": {
  "kernelspec": {
   "display_name": "Python 3",
   "language": "python",
   "name": "python3"
  },
  "language_info": {
   "codemirror_mode": {
    "name": "ipython",
    "version": 3
   },
   "file_extension": ".py",
   "mimetype": "text/x-python",
   "name": "python",
   "nbconvert_exporter": "python",
   "pygments_lexer": "ipython3",
   "version": "3.6.10"
  }
 },
 "nbformat": 4,
 "nbformat_minor": 4
}
